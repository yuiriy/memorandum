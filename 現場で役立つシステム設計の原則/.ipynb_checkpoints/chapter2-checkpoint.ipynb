{
 "cells": [
  {
   "cell_type": "markdown",
   "metadata": {},
   "source": [
    "# 2章 場合分けのロジックを整理する"
   ]
  },
  {
   "cell_type": "markdown",
   "metadata": {},
   "source": [
    "顧客区分、料金種別ごとに業務ルールが違う場合、if文などでコードが複雑になってしまう。変更しやすいコードにするためのコツは以下である。"
   ]
  },
  {
   "cell_type": "markdown",
   "metadata": {},
   "source": [
    "## 1. 判断や処理のロジックをメソッドに独立させる"
   ]
  },
  {
   "cell_type": "markdown",
   "metadata": {},
   "source": [
    " - コードのかたまりは、メソッドとして抽出して独立させる\n",
    " - 関連するデータとロジックは、１つのクラスにまとめる"
   ]
  },
  {
   "cell_type": "markdown",
   "metadata": {},
   "source": [
    "子供の顧客は料金を半額にするコード（悪い例）"
   ]
  },
  {
   "cell_type": "code",
   "execution_count": null,
   "metadata": {},
   "outputs": [],
   "source": [
    "if customer_type.equals(child):\n",
    "    fee = base_fee * 0.5"
   ]
  },
  {
   "cell_type": "markdown",
   "metadata": {},
   "source": [
    "子供の顧客は料金を半額にするコード（良い例）"
   ]
  },
  {
   "cell_type": "code",
   "execution_count": null,
   "metadata": {},
   "outputs": [],
   "source": [
    "if is_child():\n",
    "    fee = child_fee\n",
    "\n",
    "#判断ロジック\n",
    "def is_child():\n",
    "    return customer_type.equals(child)\n",
    "\n",
    "#計算ロジック\n",
    "def child_fee():\n",
    "    return base_fee * 0.5"
   ]
  },
  {
   "cell_type": "markdown",
   "metadata": {},
   "source": [
    "## 2. else句をなくすと条件分岐が単純になる\n",
    "## 3. 複文は単文に分ける"
   ]
  },
  {
   "cell_type": "markdown",
   "metadata": {},
   "source": [
    " - else句を見つけたら、早期リターンやガード節に書き換える"
   ]
  },
  {
   "cell_type": "markdown",
   "metadata": {},
   "source": [
    "子供、大人、シニアで別料金にするコード（悪い例）"
   ]
  },
  {
   "cell_type": "code",
   "execution_count": null,
   "metadata": {},
   "outputs": [],
   "source": [
    "def fee():\n",
    "    result = 0\n",
    "    if is_child():\n",
    "        result = child_fee()\n",
    "    elif is_senior():\n",
    "        result = senior_fee()\n",
    "    else:\n",
    "        result = adult_fee()\n",
    "    return result"
   ]
  },
  {
   "cell_type": "markdown",
   "metadata": {},
   "source": [
    "子供、大人、シニアで別料金にするコード（少し良い例）"
   ]
  },
  {
   "cell_type": "code",
   "execution_count": null,
   "metadata": {},
   "outputs": [],
   "source": [
    "#「早期リターン」を使用すると、ローカル変数resultは必要ない\n",
    "def fee():\n",
    "    if id_child():\n",
    "        return child_fee()\n",
    "    elif is_senior():\n",
    "        return senior_fee()\n",
    "    else:\n",
    "        return adult_fee()"
   ]
  },
  {
   "cell_type": "markdown",
   "metadata": {},
   "source": [
    "子供、大人、シニアで別料金にするコード（良い例）"
   ]
  },
  {
   "cell_type": "code",
   "execution_count": null,
   "metadata": {},
   "outputs": [],
   "source": [
    "#「ガード節」にするとelse句がなくなり、すっきりする\n",
    "#これらのif文同士が「疎結合」のため、if文を入れ替えてもうまく動作する\n",
    "def fee():\n",
    "    if is_child():\n",
    "        return child_fee()\n",
    "    if is_senior():\n",
    "        return senior_fee()\n",
    "    return adult_fee()"
   ]
  },
  {
   "cell_type": "markdown",
   "metadata": {},
   "source": [
    "## 4. 区分ごとのロジックを別クラスに分ける"
   ]
  },
  {
   "cell_type": "code",
   "execution_count": null,
   "metadata": {},
   "outputs": [],
   "source": []
  }
 ],
 "metadata": {
  "kernelspec": {
   "display_name": "Python 3",
   "language": "python",
   "name": "python3"
  },
  "language_info": {
   "codemirror_mode": {
    "name": "ipython",
    "version": 3
   },
   "file_extension": ".py",
   "mimetype": "text/x-python",
   "name": "python",
   "nbconvert_exporter": "python",
   "pygments_lexer": "ipython3",
   "version": "3.7.2"
  }
 },
 "nbformat": 4,
 "nbformat_minor": 2
}
